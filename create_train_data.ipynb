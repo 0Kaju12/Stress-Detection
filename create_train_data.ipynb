{
 "cells": [
  {
   "cell_type": "code",
   "execution_count": 1,
   "id": "f2405e63-5aff-413a-91ee-6672b385f1f7",
   "metadata": {
    "tags": []
   },
   "outputs": [],
   "source": [
    "# This program intends to make the car console interface to generate car driving training data.\n",
    "\n",
    "import cv2\n",
    "import time"
   ]
  },
  {
   "cell_type": "code",
   "execution_count": null,
   "id": "ecaa7c6f-f50e-4df1-871a-2be4b6d05ae8",
   "metadata": {},
   "outputs": [],
   "source": []
  }
 ],
 "metadata": {
  "kernelspec": {
   "display_name": "StressDetection",
   "language": "python",
   "name": "stressdetection"
  },
  "language_info": {
   "codemirror_mode": {
    "name": "ipython",
    "version": 3
   },
   "file_extension": ".py",
   "mimetype": "text/x-python",
   "name": "python",
   "nbconvert_exporter": "python",
   "pygments_lexer": "ipython3",
   "version": "3.10.8"
  }
 },
 "nbformat": 4,
 "nbformat_minor": 5
}
